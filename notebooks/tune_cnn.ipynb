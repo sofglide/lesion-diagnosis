{
 "cells": [
  {
   "cell_type": "markdown",
   "metadata": {
    "id": "0nsXqdZSmBx9"
   },
   "source": [
    "# Preliminaries"
   ]
  },
  {
   "cell_type": "markdown",
   "metadata": {
    "id": "6Iyo_InoA7tz"
   },
   "source": [
    "## Mount Google Drive for persistance"
   ]
  },
  {
   "cell_type": "code",
   "execution_count": null,
   "metadata": {
    "colab": {
     "base_uri": "https://localhost:8080/"
    },
    "id": "cC6mQdJbAsWN",
    "outputId": "7df3c429-dbd7-4610-e59c-88fef9ddd88c"
   },
   "outputs": [],
   "source": [
    "from google.colab import drive\n",
    "drive.mount('/content/gdrive')"
   ]
  },
  {
   "cell_type": "code",
   "execution_count": null,
   "metadata": {
    "id": "RY769hkyBEwj"
   },
   "outputs": [],
   "source": [
    "import os\n",
    "from pathlib import Path\n",
    "WORKING_DIR = Path('/content/gdrive/My Drive/Projects/lesion-diagnosis')\n",
    "os.chdir(WORKING_DIR)\n",
    "\n",
    "REPO_DIR = WORKING_DIR / \"lesion-diagnosis\""
   ]
  },
  {
   "cell_type": "markdown",
   "metadata": {
    "id": "0ffNj9asPlyi"
   },
   "source": [
    "## Clone repo"
   ]
  },
  {
   "cell_type": "code",
   "execution_count": null,
   "metadata": {
    "colab": {
     "base_uri": "https://localhost:8080/"
    },
    "id": "u2yqiaPmEPay",
    "outputId": "ae9ab361-8ebf-4665-ab78-e1ac3e375a26"
   },
   "outputs": [],
   "source": [
    "!rm -rf /root/.ssh && mkdir /root/.ssh && tar zxvf \"/content/gdrive/My Drive/Projects/lesion-diagnosis/id_rsa_colab_git.tar.gz\" -C /root/.ssh && chmod 700 /root/.ssh/\n",
    "!ssh-keyscan github.com >> /root/.ssh/known_hosts\n",
    "!chown -R root:$USER /root/.ssh\n",
    "!chmod 644 /root/.ssh/known_hosts\n",
    "!ssh-agent /bin/bash\n",
    "# ssh-add /root/.ssh/id_rsa_colab_git\n",
    "# ssh-add -l\n",
    "# exit"
   ]
  },
  {
   "cell_type": "code",
   "execution_count": null,
   "metadata": {
    "id": "K-EZX-FgPvAR"
   },
   "outputs": [],
   "source": [
    "!git config --global user.email \"sofiane.soussi@gmail.com\"\n",
    "!git config --global user.name \"Sofiane Soussi\""
   ]
  },
  {
   "cell_type": "code",
   "execution_count": null,
   "metadata": {
    "colab": {
     "base_uri": "https://localhost:8080/"
    },
    "id": "RmNt8UodBl3T",
    "outputId": "528ba71c-7a87-47d6-d385-1b3174630f65"
   },
   "outputs": [],
   "source": [
    "!git clone git@github.com:sofglide/lesion-diagnosis.git"
   ]
  },
  {
   "cell_type": "code",
   "execution_count": null,
   "metadata": {
    "colab": {
     "base_uri": "https://localhost:8080/"
    },
    "id": "Bg6BuMxTNKAL",
    "outputId": "a2e2a923-3aef-4875-ee01-47f11f3229ee"
   },
   "outputs": [],
   "source": [
    "%cd \"$REPO_DIR\""
   ]
  },
  {
   "cell_type": "code",
   "execution_count": null,
   "metadata": {
    "colab": {
     "base_uri": "https://localhost:8080/"
    },
    "id": "YEDX8-NfS-Tg",
    "outputId": "53bc0fe7-3b16-42ed-8042-541a67ed83fd"
   },
   "outputs": [],
   "source": [
    "!git pull"
   ]
  },
  {
   "cell_type": "markdown",
   "metadata": {
    "id": "3S84e5bARW7E"
   },
   "source": [
    "## Install environment"
   ]
  },
  {
   "cell_type": "code",
   "execution_count": null,
   "metadata": {
    "colab": {
     "base_uri": "https://localhost:8080/",
     "height": 1000
    },
    "id": "4iIkrcz7TRSA",
    "outputId": "be2df0ac-5b4d-4a8a-d425-41b48d8196b0"
   },
   "outputs": [],
   "source": [
    "%cd \"$REPO_DIR\"\n",
    "!pip install -r requirements.txt"
   ]
  },
  {
   "cell_type": "markdown",
   "metadata": {
    "id": "ff_qtuh4WkMr"
   },
   "source": [
    "## Import data"
   ]
  },
  {
   "cell_type": "code",
   "execution_count": null,
   "metadata": {
    "colab": {
     "base_uri": "https://localhost:8080/"
    },
    "id": "sJE74EXScmFS",
    "outputId": "63dd6588-99ac-468b-e5e6-cdea82b66967"
   },
   "outputs": [],
   "source": [
    "%cd \"$REPO_DIR\"\n",
    "DATA_DIR = \"/content/data\"\n",
    "! python lesiondiagnosis/main.py download-data --data-dir $DATA_DIR"
   ]
  },
  {
   "cell_type": "markdown",
   "metadata": {
    "id": "erVkyfRZWDM4"
   },
   "source": [
    "# Single experiment: train model"
   ]
  },
  {
   "cell_type": "code",
   "execution_count": null,
   "metadata": {
    "id": "eACcnj7BWvfj"
   },
   "outputs": [],
   "source": [
    "exp_name = \"baseline-with-default-params\""
   ]
  },
  {
   "cell_type": "code",
   "execution_count": null,
   "metadata": {
    "colab": {
     "base_uri": "https://localhost:8080/"
    },
    "id": "XJDhXuvIVeOf",
    "outputId": "39dd368a-4772-4148-fe53-58b9f0c0020f"
   },
   "outputs": [],
   "source": [
    "! python lesiondiagnosis/main.py single-experiment --network Resnet --data-dir $DATA_DIR --exp-name $exp_name --batch-size 128 --num-epochs 3"
   ]
  },
  {
   "cell_type": "markdown",
   "metadata": {
    "id": "XCRoUZN1lYlI"
   },
   "source": [
    "# Tune experiment: train model"
   ]
  },
  {
   "cell_type": "code",
   "execution_count": null,
   "metadata": {
    "colab": {
     "base_uri": "https://localhost:8080/"
    },
    "id": "9Z55ScvDleDw",
    "outputId": "bc343e71-e3e8-4fab-b140-268aa7477c75"
   },
   "outputs": [],
   "source": [
    "!cd $WORKDIR\n",
    "! python lesiondiagnosis/main.py tune-experiment --config-file tune_cnn.json --num-samples 10 --data-dir $DATA_DIR"
   ]
  },
  {
   "cell_type": "code",
   "execution_count": null,
   "metadata": {
    "id": "BcP5Sci7zBBa"
   },
   "outputs": [],
   "source": []
  }
 ],
 "metadata": {
  "accelerator": "GPU",
  "colab": {
   "collapsed_sections": [
    "0nsXqdZSmBx9",
    "6Iyo_InoA7tz",
    "0ffNj9asPlyi",
    "3S84e5bARW7E",
    "ff_qtuh4WkMr",
    "erVkyfRZWDM4"
   ],
   "name": "tune-cnn.ipynb",
   "provenance": []
  },
  "kernelspec": {
   "display_name": "Python 3",
   "language": "python",
   "name": "python3"
  },
  "language_info": {
   "codemirror_mode": {
    "name": "ipython",
    "version": 3
   },
   "file_extension": ".py",
   "mimetype": "text/x-python",
   "name": "python",
   "nbconvert_exporter": "python",
   "pygments_lexer": "ipython3",
   "version": "3.8.5"
  }
 },
 "nbformat": 4,
 "nbformat_minor": 4
}
