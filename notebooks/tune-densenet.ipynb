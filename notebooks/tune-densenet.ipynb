{
 "cells": [
  {
   "cell_type": "markdown",
   "metadata": {
    "id": "0nsXqdZSmBx9"
   },
   "source": [
    "# Preliminaries"
   ]
  },
  {
   "cell_type": "markdown",
   "metadata": {
    "id": "6Iyo_InoA7tz"
   },
   "source": [
    "## Mount Google Drive for persistance"
   ]
  },
  {
   "cell_type": "code",
   "execution_count": null,
   "metadata": {
    "colab": {
     "base_uri": "https://localhost:8080/"
    },
    "executionInfo": {
     "elapsed": 24352,
     "status": "ok",
     "timestamp": 1619478034483,
     "user": {
      "displayName": "Sofiane Soussi",
      "photoUrl": "https://lh3.googleusercontent.com/a-/AOh14GjGtNbUxSPbl9vq3yqtEqPAJCGOXLwPuoJ5vWodQA=s64",
      "userId": "15714573705776313289"
     },
     "user_tz": -120
    },
    "id": "cC6mQdJbAsWN",
    "outputId": "e2d1d31b-c8da-4d33-952e-ddfa5a7f2dc1"
   },
   "outputs": [],
   "source": [
    "from google.colab import drive\n",
    "drive.mount('/content/gdrive')"
   ]
  },
  {
   "cell_type": "code",
   "execution_count": null,
   "metadata": {
    "executionInfo": {
     "elapsed": 1421,
     "status": "ok",
     "timestamp": 1619478035907,
     "user": {
      "displayName": "Sofiane Soussi",
      "photoUrl": "https://lh3.googleusercontent.com/a-/AOh14GjGtNbUxSPbl9vq3yqtEqPAJCGOXLwPuoJ5vWodQA=s64",
      "userId": "15714573705776313289"
     },
     "user_tz": -120
    },
    "id": "RY769hkyBEwj"
   },
   "outputs": [],
   "source": [
    "import os\n",
    "from pathlib import Path\n",
    "WORKING_DIR = Path('/content/gdrive/My Drive/Projects/lesion-diagnosis')\n",
    "os.chdir(WORKING_DIR)\n",
    "\n",
    "REPO_DIR = WORKING_DIR / \"lesion-diagnosis\""
   ]
  },
  {
   "cell_type": "markdown",
   "metadata": {
    "id": "0ffNj9asPlyi"
   },
   "source": [
    "## Clone repo"
   ]
  },
  {
   "cell_type": "code",
   "execution_count": null,
   "metadata": {
    "colab": {
     "base_uri": "https://localhost:8080/"
    },
    "executionInfo": {
     "elapsed": 21428,
     "status": "ok",
     "timestamp": 1619478061470,
     "user": {
      "displayName": "Sofiane Soussi",
      "photoUrl": "https://lh3.googleusercontent.com/a-/AOh14GjGtNbUxSPbl9vq3yqtEqPAJCGOXLwPuoJ5vWodQA=s64",
      "userId": "15714573705776313289"
     },
     "user_tz": -120
    },
    "id": "u2yqiaPmEPay",
    "outputId": "e02c3446-a92b-42e4-ec77-7b29cb0b061c"
   },
   "outputs": [],
   "source": [
    "!rm -rf /root/.ssh && mkdir /root/.ssh && tar zxvf \"/content/gdrive/My Drive/Projects/lesion-diagnosis/id_rsa_colab_git.tar.gz\" -C /root/.ssh && chmod 700 /root/.ssh/\n",
    "!ssh-keyscan github.com >> /root/.ssh/known_hosts\n",
    "!chown -R root:$USER /root/.ssh\n",
    "!chmod 644 /root/.ssh/known_hosts\n",
    "!ssh-agent /bin/bash\n",
    "# ssh-add /root/.ssh/id_rsa_colab_git\n",
    "# ssh-add -l\n",
    "# exit"
   ]
  },
  {
   "cell_type": "code",
   "execution_count": null,
   "metadata": {
    "executionInfo": {
     "elapsed": 653,
     "status": "ok",
     "timestamp": 1619478065615,
     "user": {
      "displayName": "Sofiane Soussi",
      "photoUrl": "https://lh3.googleusercontent.com/a-/AOh14GjGtNbUxSPbl9vq3yqtEqPAJCGOXLwPuoJ5vWodQA=s64",
      "userId": "15714573705776313289"
     },
     "user_tz": -120
    },
    "id": "K-EZX-FgPvAR"
   },
   "outputs": [],
   "source": [
    "!git config --global user.email \"sofiane.soussi@gmail.com\"\n",
    "!git config --global user.name \"Sofiane Soussi\""
   ]
  },
  {
   "cell_type": "code",
   "execution_count": null,
   "metadata": {
    "id": "RmNt8UodBl3T"
   },
   "outputs": [],
   "source": [
    "!git clone git@github.com:sofglide/lesion-diagnosis.git"
   ]
  },
  {
   "cell_type": "code",
   "execution_count": null,
   "metadata": {
    "colab": {
     "base_uri": "https://localhost:8080/"
    },
    "executionInfo": {
     "elapsed": 544,
     "status": "ok",
     "timestamp": 1619478069778,
     "user": {
      "displayName": "Sofiane Soussi",
      "photoUrl": "https://lh3.googleusercontent.com/a-/AOh14GjGtNbUxSPbl9vq3yqtEqPAJCGOXLwPuoJ5vWodQA=s64",
      "userId": "15714573705776313289"
     },
     "user_tz": -120
    },
    "id": "Bg6BuMxTNKAL",
    "outputId": "403182d6-64b9-4e17-aa0c-4f89ee99546f"
   },
   "outputs": [],
   "source": [
    "%cd \"$REPO_DIR\""
   ]
  },
  {
   "cell_type": "code",
   "execution_count": null,
   "metadata": {
    "colab": {
     "base_uri": "https://localhost:8080/"
    },
    "executionInfo": {
     "elapsed": 46895,
     "status": "ok",
     "timestamp": 1619480153940,
     "user": {
      "displayName": "Sofiane Soussi",
      "photoUrl": "https://lh3.googleusercontent.com/a-/AOh14GjGtNbUxSPbl9vq3yqtEqPAJCGOXLwPuoJ5vWodQA=s64",
      "userId": "15714573705776313289"
     },
     "user_tz": -120
    },
    "id": "YEDX8-NfS-Tg",
    "outputId": "9995bcc4-cf4f-4f3f-cad1-925d3a4bd6b3"
   },
   "outputs": [],
   "source": [
    "!git pull"
   ]
  },
  {
   "cell_type": "markdown",
   "metadata": {
    "id": "3S84e5bARW7E"
   },
   "source": [
    "## Install environment"
   ]
  },
  {
   "cell_type": "code",
   "execution_count": null,
   "metadata": {
    "colab": {
     "base_uri": "https://localhost:8080/",
     "height": 0
    },
    "executionInfo": {
     "elapsed": 85724,
     "status": "ok",
     "timestamp": 1619478223938,
     "user": {
      "displayName": "Sofiane Soussi",
      "photoUrl": "https://lh3.googleusercontent.com/a-/AOh14GjGtNbUxSPbl9vq3yqtEqPAJCGOXLwPuoJ5vWodQA=s64",
      "userId": "15714573705776313289"
     },
     "user_tz": -120
    },
    "id": "4iIkrcz7TRSA",
    "outputId": "c759b06e-6570-4a9b-f130-5de148c7d0de"
   },
   "outputs": [],
   "source": [
    "%cd \"$REPO_DIR\"\n",
    "!pip install -r requirements.txt"
   ]
  },
  {
   "cell_type": "markdown",
   "metadata": {
    "id": "ff_qtuh4WkMr"
   },
   "source": [
    "## Import data"
   ]
  },
  {
   "cell_type": "code",
   "execution_count": null,
   "metadata": {
    "colab": {
     "base_uri": "https://localhost:8080/"
    },
    "executionInfo": {
     "elapsed": 945,
     "status": "ok",
     "timestamp": 1619478224884,
     "user": {
      "displayName": "Sofiane Soussi",
      "photoUrl": "https://lh3.googleusercontent.com/a-/AOh14GjGtNbUxSPbl9vq3yqtEqPAJCGOXLwPuoJ5vWodQA=s64",
      "userId": "15714573705776313289"
     },
     "user_tz": -120
    },
    "id": "sRe9tj0cZCuF",
    "outputId": "6ea17a11-830f-417f-bd72-953b21019a3d"
   },
   "outputs": [],
   "source": [
    "%cd \"$REPO_DIR\"\n",
    "DATA_DIR = \"/content/data\""
   ]
  },
  {
   "cell_type": "code",
   "execution_count": null,
   "metadata": {
    "colab": {
     "base_uri": "https://localhost:8080/"
    },
    "executionInfo": {
     "elapsed": 112806,
     "status": "ok",
     "timestamp": 1619478336748,
     "user": {
      "displayName": "Sofiane Soussi",
      "photoUrl": "https://lh3.googleusercontent.com/a-/AOh14GjGtNbUxSPbl9vq3yqtEqPAJCGOXLwPuoJ5vWodQA=s64",
      "userId": "15714573705776313289"
     },
     "user_tz": -120
    },
    "id": "sJE74EXScmFS",
    "outputId": "3733f886-5804-46d4-eb88-a73bf2c07360"
   },
   "outputs": [],
   "source": [
    "! python lesiondiagnosis/main.py download-data --data-dir $DATA_DIR"
   ]
  },
  {
   "cell_type": "markdown",
   "metadata": {
    "id": "erVkyfRZWDM4"
   },
   "source": [
    "# Single experiment: train model"
   ]
  },
  {
   "cell_type": "code",
   "execution_count": null,
   "metadata": {
    "id": "eACcnj7BWvfj"
   },
   "outputs": [],
   "source": [
    "exp_name = \"baseline-with-default-params\""
   ]
  },
  {
   "cell_type": "code",
   "execution_count": null,
   "metadata": {
    "id": "XJDhXuvIVeOf"
   },
   "outputs": [],
   "source": [
    "! python lesiondiagnosis/main.py single-experiment --network Resnet --data-dir $DATA_DIR --exp-name $exp_name --batch-size 128 --num-epochs 3"
   ]
  },
  {
   "cell_type": "markdown",
   "metadata": {
    "id": "XCRoUZN1lYlI"
   },
   "source": [
    "# Tune experiment: train model"
   ]
  },
  {
   "cell_type": "code",
   "execution_count": null,
   "metadata": {
    "colab": {
     "base_uri": "https://localhost:8080/"
    },
    "executionInfo": {
     "elapsed": 20691607,
     "status": "ok",
     "timestamp": 1619500929691,
     "user": {
      "displayName": "Sofiane Soussi",
      "photoUrl": "https://lh3.googleusercontent.com/a-/AOh14GjGtNbUxSPbl9vq3yqtEqPAJCGOXLwPuoJ5vWodQA=s64",
      "userId": "15714573705776313289"
     },
     "user_tz": -120
    },
    "id": "9Z55ScvDleDw",
    "outputId": "34ec1a4d-af81-4339-f91a-e46dcb62f842"
   },
   "outputs": [],
   "source": [
    "!cd \"$REPO_DIR\"\n",
    "! python lesiondiagnosis/main.py tune-experiment --config-file tune_densenet.json --num-samples 10 --data-dir $DATA_DIR"
   ]
  },
  {
   "cell_type": "code",
   "execution_count": null,
   "metadata": {
    "id": "qHmYLqzaZFir"
   },
   "outputs": [],
   "source": []
  }
 ],
 "metadata": {
  "accelerator": "GPU",
  "colab": {
   "authorship_tag": "ABX9TyNUPUmT8k1ZdjGv6adaHsro",
   "collapsed_sections": [
    "6Iyo_InoA7tz",
    "0ffNj9asPlyi",
    "3S84e5bARW7E",
    "ff_qtuh4WkMr",
    "erVkyfRZWDM4"
   ],
   "machine_shape": "hm",
   "name": "tune-densenet.ipynb",
   "provenance": [
    {
     "file_id": "1LC8hBhKVDElHo7IsI2Ks6bfeLfElQz4N",
     "timestamp": 1619468083579
    },
    {
     "file_id": "12QLHo_yPaXnflegXzsEcxpocL4xrhPhf",
     "timestamp": 1618780297001
    }
   ]
  },
  "kernelspec": {
   "display_name": "Python 3",
   "language": "python",
   "name": "python3"
  },
  "language_info": {
   "codemirror_mode": {
    "name": "ipython",
    "version": 3
   },
   "file_extension": ".py",
   "mimetype": "text/x-python",
   "name": "python",
   "nbconvert_exporter": "python",
   "pygments_lexer": "ipython3",
   "version": "3.8.5"
  }
 },
 "nbformat": 4,
 "nbformat_minor": 4
}
