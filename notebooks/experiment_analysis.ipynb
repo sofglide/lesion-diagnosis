{
 "cells": [
  {
   "cell_type": "code",
   "execution_count": null,
   "id": "ed098964-272e-4abc-bf22-4a2fa80e8e73",
   "metadata": {},
   "outputs": [],
   "source": [
    "from IPython.display import display, Markdown\n",
    "\n",
    "import pandas as pd\n",
    "from pathlib import Path\n",
    "%matplotlib inline\n",
    "from matplotlib import pyplot as plt\n",
    "import seaborn as sns\n",
    "\n",
    "def printmd(text: str) -> None:\n",
    "    display(Markdown(text))\n"
   ]
  },
  {
   "cell_type": "code",
   "execution_count": null,
   "id": "c019a153-2250-4ec8-99c3-2151481185b9",
   "metadata": {},
   "outputs": [],
   "source": [
    "import sys\n",
    "sys.path.append('../lesiondiagnosis')\n",
    "\n",
    "from config import config\n",
    "from rendering import sampling\n",
    "\n",
    "from experiment_analysis.experiment import Experiment\n",
    "from experiment_analysis.parsing import load_experiments\n",
    "\n",
    "config.set_data_dir(\"../data\")\n",
    "\n",
    "experiments_dir = Path(\"../experiments\")"
   ]
  },
  {
   "cell_type": "code",
   "execution_count": null,
   "id": "b9174a22-c233-4c5e-8382-f2f7ff548bd5",
   "metadata": {},
   "outputs": [],
   "source": [
    "printmd(\"### Load experiments from directory\")\n",
    "experiments_df = load_experiments(experiments_dir)\n",
    "print(experiments_df)"
   ]
  },
  {
   "cell_type": "markdown",
   "id": "51a7c010-df04-44c3-bf64-c6d7196743ea",
   "metadata": {},
   "source": [
    "## Experiment analysis"
   ]
  },
  {
   "cell_type": "code",
   "execution_count": null,
   "id": "75fd8769-9521-40d6-804d-85c6337ec8a4",
   "metadata": {},
   "outputs": [],
   "source": [
    "experiment = Experiment(experiments_dir / experiments_df[\"name\"].iloc[0])"
   ]
  },
  {
   "cell_type": "code",
   "execution_count": null,
   "id": "8d060911-b3b3-40ea-a71c-d8e693fa101a",
   "metadata": {},
   "outputs": [],
   "source": [
    "printmd(\"### classification report\")\n",
    "print(experiment.classification_report(\"valid\"))"
   ]
  },
  {
   "cell_type": "code",
   "execution_count": null,
   "id": "88d76acf-4dde-46f1-91e7-c196e4025618",
   "metadata": {},
   "outputs": [],
   "source": [
    "printmd(\"### confusion matrix\")\n",
    "experiment.plot_confusion_matrix(\"valid\")"
   ]
  },
  {
   "cell_type": "code",
   "execution_count": null,
   "id": "b563ccc8-7356-4c08-9d69-0a60a4eb9017",
   "metadata": {},
   "outputs": [],
   "source": [
    "fig, axes = plt.subplots(nrows=1, ncols=3, figsize=(30, 30))\n",
    "plot_names = [\"loss\", \"f1_score\", \"mcc\"]\n",
    "for ax, plot_name in zip(axes.flat, plot_names):\n",
    "    experiment.display_plot(plot_name, ax=ax)\n",
    "plt.show()"
   ]
  },
  {
   "cell_type": "code",
   "execution_count": null,
   "id": "a59532df-58d6-442d-a573-479a6dd13d9d",
   "metadata": {},
   "outputs": [],
   "source": []
  }
 ],
 "metadata": {
  "kernelspec": {
   "display_name": "lesion diagnosis",
   "language": "python",
   "name": "lesiondiagnosis"
  },
  "language_info": {
   "codemirror_mode": {
    "name": "ipython",
    "version": 3
   },
   "file_extension": ".py",
   "mimetype": "text/x-python",
   "name": "python",
   "nbconvert_exporter": "python",
   "pygments_lexer": "ipython3",
   "version": "3.8.5"
  }
 },
 "nbformat": 4,
 "nbformat_minor": 5
}
