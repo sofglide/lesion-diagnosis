{
 "cells": [
  {
   "cell_type": "markdown",
   "id": "cb3b689a-956e-46ab-86ca-26da6d28957a",
   "metadata": {},
   "source": [
    "## Preliminaries (imports)"
   ]
  },
  {
   "cell_type": "code",
   "execution_count": 5,
   "id": "85b6fbfa-a785-4240-a7cb-bd05f387e3e3",
   "metadata": {},
   "outputs": [],
   "source": [
    "from IPython.display import display, Markdown\n",
    "\n",
    "import pandas as pd\n",
    "from pathlib import Path\n",
    "from matplotlib import pyplot as plt\n",
    "import seaborn as sns\n",
    "\n",
    "from ray.tune import Analysis\n",
    "\n",
    "def printmd(text: str) -> None:\n",
    "    display(Markdown(text))"
   ]
  },
  {
   "cell_type": "code",
   "execution_count": 6,
   "id": "2553ff2c-cba4-4abd-9b90-3a282e87fec9",
   "metadata": {},
   "outputs": [],
   "source": [
    "import sys\n",
    "sys.path.append('../src')\n",
    "\n",
    "from config import config\n",
    "from rendering import sampling\n",
    "\n",
    "from experiment_analysis.experiment import Experiment\n",
    "from experiment_analysis.parsing import load_experiments\n",
    "\n",
    "config.set_data_dir(\"../data\")\n",
    "\n",
    "ray_dir = Path(\"../ray_results/\")"
   ]
  },
  {
   "cell_type": "markdown",
   "id": "f9b44699-1e39-4cbf-b540-810fceab8e41",
   "metadata": {},
   "source": [
    "# Tune trials analysis"
   ]
  },
  {
   "cell_type": "code",
   "execution_count": 7,
   "id": "06e5111b-d71c-4810-a8a1-d057f25dd09a",
   "metadata": {},
   "outputs": [
    {
     "name": "stdout",
     "output_type": "stream",
     "text": [
      "../ray_results/Trainable_2021-05-11_18-59-15\n",
      "../ray_results/Trainable_2021-05-10_17-14-26\n",
      "../ray_results/Trainable_2021-05-11_19-02-42\n"
     ]
    }
   ],
   "source": [
    "trials = list(ray_dir.iterdir())\n",
    "print(\"\\n\".join(str(t) for t in trials))"
   ]
  },
  {
   "cell_type": "code",
   "execution_count": 8,
   "id": "04931c16-bb16-4766-a743-08a24df91821",
   "metadata": {},
   "outputs": [],
   "source": [
    "analysis = Analysis(ray_dir)"
   ]
  },
  {
   "cell_type": "code",
   "execution_count": 9,
   "id": "331efc58-03b6-457b-8f74-2c1975d18b8c",
   "metadata": {},
   "outputs": [
    {
     "data": {
      "text/markdown": [
       "### tune trials dataframe"
      ],
      "text/plain": [
       "<IPython.core.display.Markdown object>"
      ]
     },
     "metadata": {},
     "output_type": "display_data"
    },
    {
     "data": {
      "text/html": [
       "<div>\n",
       "<style scoped>\n",
       "    .dataframe tbody tr th:only-of-type {\n",
       "        vertical-align: middle;\n",
       "    }\n",
       "\n",
       "    .dataframe tbody tr th {\n",
       "        vertical-align: top;\n",
       "    }\n",
       "\n",
       "    .dataframe thead th {\n",
       "        text-align: right;\n",
       "    }\n",
       "</style>\n",
       "<table border=\"1\" class=\"dataframe\">\n",
       "  <thead>\n",
       "    <tr style=\"text-align: right;\">\n",
       "      <th></th>\n",
       "      <th>accuracy</th>\n",
       "      <th>mcc</th>\n",
       "      <th>f1_score</th>\n",
       "      <th>config/network</th>\n",
       "      <th>config/lr</th>\n",
       "      <th>config/objective_metric</th>\n",
       "      <th>logdir</th>\n",
       "    </tr>\n",
       "  </thead>\n",
       "  <tbody>\n",
       "    <tr>\n",
       "      <th>9</th>\n",
       "      <td>0.647804</td>\n",
       "      <td>0.356858</td>\n",
       "      <td>0.652974</td>\n",
       "      <td>Hybrid</td>\n",
       "      <td>0.005638</td>\n",
       "      <td>mcc</td>\n",
       "      <td>../ray_results/Trainable_2021-05-10_17-14-26/T...</td>\n",
       "    </tr>\n",
       "    <tr>\n",
       "      <th>6</th>\n",
       "      <td>0.654561</td>\n",
       "      <td>0.345670</td>\n",
       "      <td>0.667526</td>\n",
       "      <td>Hybrid</td>\n",
       "      <td>0.009006</td>\n",
       "      <td>mcc</td>\n",
       "      <td>../ray_results/Trainable_2021-05-10_17-14-26/T...</td>\n",
       "    </tr>\n",
       "    <tr>\n",
       "      <th>3</th>\n",
       "      <td>0.626689</td>\n",
       "      <td>0.327411</td>\n",
       "      <td>0.667192</td>\n",
       "      <td>Hybrid</td>\n",
       "      <td>0.005211</td>\n",
       "      <td>mcc</td>\n",
       "      <td>../ray_results/Trainable_2021-05-10_17-14-26/T...</td>\n",
       "    </tr>\n",
       "    <tr>\n",
       "      <th>2</th>\n",
       "      <td>0.678209</td>\n",
       "      <td>0.325969</td>\n",
       "      <td>0.655215</td>\n",
       "      <td>Hybrid</td>\n",
       "      <td>0.010703</td>\n",
       "      <td>mcc</td>\n",
       "      <td>../ray_results/Trainable_2021-05-10_17-14-26/T...</td>\n",
       "    </tr>\n",
       "    <tr>\n",
       "      <th>0</th>\n",
       "      <td>0.723818</td>\n",
       "      <td>0.000000</td>\n",
       "      <td>0.607851</td>\n",
       "      <td>Hybrid</td>\n",
       "      <td>0.010761</td>\n",
       "      <td>mcc</td>\n",
       "      <td>../ray_results/Trainable_2021-05-10_17-14-26/T...</td>\n",
       "    </tr>\n",
       "    <tr>\n",
       "      <th>1</th>\n",
       "      <td>0.723818</td>\n",
       "      <td>0.000000</td>\n",
       "      <td>0.607851</td>\n",
       "      <td>Hybrid</td>\n",
       "      <td>0.009095</td>\n",
       "      <td>mcc</td>\n",
       "      <td>../ray_results/Trainable_2021-05-10_17-14-26/T...</td>\n",
       "    </tr>\n",
       "    <tr>\n",
       "      <th>4</th>\n",
       "      <td>0.010135</td>\n",
       "      <td>0.000000</td>\n",
       "      <td>0.000203</td>\n",
       "      <td>Hybrid</td>\n",
       "      <td>0.028873</td>\n",
       "      <td>mcc</td>\n",
       "      <td>../ray_results/Trainable_2021-05-10_17-14-26/T...</td>\n",
       "    </tr>\n",
       "    <tr>\n",
       "      <th>5</th>\n",
       "      <td>0.723818</td>\n",
       "      <td>0.000000</td>\n",
       "      <td>0.607851</td>\n",
       "      <td>Hybrid</td>\n",
       "      <td>0.012656</td>\n",
       "      <td>mcc</td>\n",
       "      <td>../ray_results/Trainable_2021-05-10_17-14-26/T...</td>\n",
       "    </tr>\n",
       "    <tr>\n",
       "      <th>7</th>\n",
       "      <td>0.723818</td>\n",
       "      <td>0.000000</td>\n",
       "      <td>0.607851</td>\n",
       "      <td>Hybrid</td>\n",
       "      <td>0.022197</td>\n",
       "      <td>mcc</td>\n",
       "      <td>../ray_results/Trainable_2021-05-10_17-14-26/T...</td>\n",
       "    </tr>\n",
       "    <tr>\n",
       "      <th>8</th>\n",
       "      <td>0.723818</td>\n",
       "      <td>0.000000</td>\n",
       "      <td>0.607851</td>\n",
       "      <td>Hybrid</td>\n",
       "      <td>0.019099</td>\n",
       "      <td>mcc</td>\n",
       "      <td>../ray_results/Trainable_2021-05-10_17-14-26/T...</td>\n",
       "    </tr>\n",
       "  </tbody>\n",
       "</table>\n",
       "</div>"
      ],
      "text/plain": [
       "   accuracy       mcc  f1_score config/network  config/lr  \\\n",
       "9  0.647804  0.356858  0.652974         Hybrid   0.005638   \n",
       "6  0.654561  0.345670  0.667526         Hybrid   0.009006   \n",
       "3  0.626689  0.327411  0.667192         Hybrid   0.005211   \n",
       "2  0.678209  0.325969  0.655215         Hybrid   0.010703   \n",
       "0  0.723818  0.000000  0.607851         Hybrid   0.010761   \n",
       "1  0.723818  0.000000  0.607851         Hybrid   0.009095   \n",
       "4  0.010135  0.000000  0.000203         Hybrid   0.028873   \n",
       "5  0.723818  0.000000  0.607851         Hybrid   0.012656   \n",
       "7  0.723818  0.000000  0.607851         Hybrid   0.022197   \n",
       "8  0.723818  0.000000  0.607851         Hybrid   0.019099   \n",
       "\n",
       "  config/objective_metric                                             logdir  \n",
       "9                     mcc  ../ray_results/Trainable_2021-05-10_17-14-26/T...  \n",
       "6                     mcc  ../ray_results/Trainable_2021-05-10_17-14-26/T...  \n",
       "3                     mcc  ../ray_results/Trainable_2021-05-10_17-14-26/T...  \n",
       "2                     mcc  ../ray_results/Trainable_2021-05-10_17-14-26/T...  \n",
       "0                     mcc  ../ray_results/Trainable_2021-05-10_17-14-26/T...  \n",
       "1                     mcc  ../ray_results/Trainable_2021-05-10_17-14-26/T...  \n",
       "4                     mcc  ../ray_results/Trainable_2021-05-10_17-14-26/T...  \n",
       "5                     mcc  ../ray_results/Trainable_2021-05-10_17-14-26/T...  \n",
       "7                     mcc  ../ray_results/Trainable_2021-05-10_17-14-26/T...  \n",
       "8                     mcc  ../ray_results/Trainable_2021-05-10_17-14-26/T...  "
      ]
     },
     "metadata": {},
     "output_type": "display_data"
    }
   ],
   "source": [
    "analysis_columns = [\"accuracy\", \"mcc\", \"f1_score\", \"config/network\", \"config/lr\", \"config/objective_metric\", \"logdir\"]\n",
    "analysis_df = analysis.dataframe(metric=\"mcc\", mode=\"max\").loc[:, analysis_columns].sort_values(\"mcc\", ascending=False)\n",
    "\n",
    "printmd(\"### tune trials dataframe\")\n",
    "display(analysis_df)"
   ]
  },
  {
   "cell_type": "code",
   "execution_count": 10,
   "id": "053699b3-5c10-497c-af94-e4b647c1cc97",
   "metadata": {},
   "outputs": [
    {
     "data": {
      "text/markdown": [
       "### best trial logdir"
      ],
      "text/plain": [
       "<IPython.core.display.Markdown object>"
      ]
     },
     "metadata": {},
     "output_type": "display_data"
    },
    {
     "data": {
      "text/plain": [
       "'../ray_results/Trainable_2021-05-10_17-14-26/Trainable_64fa08ee_8_batch_size=32,data_dir=_content_data,early_stop_count=3,early_stop_ratio=0.1,exp_name=tune_baseline,log_level_2021-05-11_00-28-08'"
      ]
     },
     "metadata": {},
     "output_type": "display_data"
    }
   ],
   "source": [
    "best_experiment_dir = Path(analysis.get_best_logdir(metric=\"mcc\", mode=\"max\"))\n",
    "\n",
    "printmd(\"### best trial logdir\")\n",
    "display(str(best_experiment_dir))"
   ]
  },
  {
   "cell_type": "code",
   "execution_count": 11,
   "id": "a364b131-29b2-4f1e-92ec-198bdb6be656",
   "metadata": {},
   "outputs": [
    {
     "data": {
      "text/markdown": [
       "### best trial config"
      ],
      "text/plain": [
       "<IPython.core.display.Markdown object>"
      ]
     },
     "metadata": {},
     "output_type": "display_data"
    },
    {
     "data": {
      "text/plain": [
       "{'batch_size': 32,\n",
       " 'data_dir': '/content/data',\n",
       " 'early_stop_count': 3,\n",
       " 'early_stop_ratio': 0.1,\n",
       " 'exp_name': 'tune_baseline',\n",
       " 'log_level': 'INFO',\n",
       " 'loss': {'function': 'focal_loss'},\n",
       " 'lr': 0.005638147229923656,\n",
       " 'model_params': '{\"embedding_dim\": 512, \"hidden_layers\": 3}',\n",
       " 'network': 'Hybrid',\n",
       " 'num_epochs': 10,\n",
       " 'objective_metric': 'mcc',\n",
       " 'seed': 0,\n",
       " 'val_fraction': 0.2}"
      ]
     },
     "metadata": {},
     "output_type": "display_data"
    }
   ],
   "source": [
    "printmd(\"### best trial config\")\n",
    "display(analysis.get_best_config(metric=\"mcc\", mode=\"max\"))"
   ]
  },
  {
   "cell_type": "markdown",
   "id": "20460b22-ca43-4f20-98c5-ae960eaeb801",
   "metadata": {},
   "source": [
    "# Best trial anals"
   ]
  },
  {
   "cell_type": "code",
   "execution_count": 12,
   "id": "512713eb-c05c-41ba-a13f-58e2e6509b83",
   "metadata": {},
   "outputs": [
    {
     "name": "stdout",
     "output_type": "stream",
     "text": [
      "../ray_results/Trainable_2021-05-10_17-14-26/Trainable_64fa08ee_8_batch_size=32,data_dir=_content_data,early_stop_count=3,early_stop_ratio=0.1,exp_name=tune_baseline,log_level_2021-05-11_00-28-08/experiments\n"
     ]
    }
   ],
   "source": [
    "print(best_experiment_dir / \"experiments\")"
   ]
  },
  {
   "cell_type": "code",
   "execution_count": 13,
   "id": "385204d6-0f8b-4c33-9ec6-b6c12e7e33d0",
   "metadata": {},
   "outputs": [],
   "source": [
    "best_experiment = Experiment(next((best_experiment_dir / \"experiments\").iterdir()))"
   ]
  },
  {
   "cell_type": "code",
   "execution_count": 14,
   "id": "e8f865c1-e592-4c55-8c97-0493d0b05d50",
   "metadata": {},
   "outputs": [
    {
     "data": {
      "text/plain": [
       "5    3448\n",
       "2     466\n",
       "4     392\n",
       "1     208\n",
       "0     146\n",
       "6      62\n",
       "3      46\n",
       "Name: predicted, dtype: int64"
      ]
     },
     "execution_count": 14,
     "metadata": {},
     "output_type": "execute_result"
    }
   ],
   "source": [
    "best_experiment.train.predicted.value_counts()"
   ]
  },
  {
   "cell_type": "code",
   "execution_count": 15,
   "id": "4af256e3-61d5-429d-b5a8-b95a79848f76",
   "metadata": {},
   "outputs": [
    {
     "data": {
      "text/markdown": [
       "### best experiment classification report"
      ],
      "text/plain": [
       "<IPython.core.display.Markdown object>"
      ]
     },
     "metadata": {},
     "output_type": "display_data"
    },
    {
     "name": "stderr",
     "output_type": "stream",
     "text": [
      "/home/soussi/repos/lesion-diagnosis/.venv/lib/python3.8/site-packages/sklearn/metrics/_classification.py:1245: UndefinedMetricWarning: Precision and F-score are ill-defined and being set to 0.0 in labels with no predicted samples. Use `zero_division` parameter to control this behavior.\n",
      "  _warn_prf(average, modifier, msg_start, len(result))\n",
      "/home/soussi/repos/lesion-diagnosis/.venv/lib/python3.8/site-packages/sklearn/metrics/_classification.py:1245: UndefinedMetricWarning: Precision and F-score are ill-defined and being set to 0.0 in labels with no predicted samples. Use `zero_division` parameter to control this behavior.\n",
      "  _warn_prf(average, modifier, msg_start, len(result))\n",
      "/home/soussi/repos/lesion-diagnosis/.venv/lib/python3.8/site-packages/sklearn/metrics/_classification.py:1245: UndefinedMetricWarning: Precision and F-score are ill-defined and being set to 0.0 in labels with no predicted samples. Use `zero_division` parameter to control this behavior.\n",
      "  _warn_prf(average, modifier, msg_start, len(result))\n"
     ]
    },
    {
     "data": {
      "text/markdown": [
       "              precision    recall  f1-score   support\n",
       "\n",
       "       akiec       0.23      0.81      0.36        37\n",
       "         bcc       0.00      0.00      0.00        52\n",
       "         bkl       0.00      0.00      0.00       113\n",
       "          df       0.00      0.00      0.00        12\n",
       "         mel       0.18      0.61      0.28        97\n",
       "          nv       0.93      0.79      0.85       857\n",
       "        vasc       0.00      0.00      0.00        16\n",
       "\n",
       "    accuracy                           0.65      1184\n",
       "   macro avg       0.19      0.32      0.21      1184\n",
       "weighted avg       0.70      0.65      0.65      1184\n"
      ],
      "text/plain": [
       "<IPython.core.display.Markdown object>"
      ]
     },
     "metadata": {},
     "output_type": "display_data"
    }
   ],
   "source": [
    "printmd(\"### best experiment classification report\")\n",
    "printmd(best_experiment.classification_report(\"valid\"))"
   ]
  },
  {
   "cell_type": "code",
   "execution_count": 16,
   "id": "9a8dcd62-9050-48e8-b1c2-d6e63d83fcf2",
   "metadata": {},
   "outputs": [
    {
     "data": {
      "text/markdown": [
       "### best experiment confusion matrix"
      ],
      "text/plain": [
       "<IPython.core.display.Markdown object>"
      ]
     },
     "metadata": {},
     "output_type": "display_data"
    },
    {
     "ename": "ValueError",
     "evalue": "Shape of passed values is (7, 7), indices imply (3, 3)",
     "output_type": "error",
     "traceback": [
      "\u001b[0;31m---------------------------------------------------------------------------\u001b[0m",
      "\u001b[0;31mValueError\u001b[0m                                Traceback (most recent call last)",
      "\u001b[0;32m~/repos/lesion-diagnosis/.venv/lib/python3.8/site-packages/pandas/core/internals/managers.py\u001b[0m in \u001b[0;36mcreate_block_manager_from_blocks\u001b[0;34m(blocks, axes)\u001b[0m\n\u001b[1;32m   1674\u001b[0m                 blocks = [\n\u001b[0;32m-> 1675\u001b[0;31m                     make_block(\n\u001b[0m\u001b[1;32m   1676\u001b[0m                         \u001b[0mvalues\u001b[0m\u001b[0;34m=\u001b[0m\u001b[0mblocks\u001b[0m\u001b[0;34m[\u001b[0m\u001b[0;36m0\u001b[0m\u001b[0;34m]\u001b[0m\u001b[0;34m,\u001b[0m \u001b[0mplacement\u001b[0m\u001b[0;34m=\u001b[0m\u001b[0mslice\u001b[0m\u001b[0;34m(\u001b[0m\u001b[0;36m0\u001b[0m\u001b[0;34m,\u001b[0m \u001b[0mlen\u001b[0m\u001b[0;34m(\u001b[0m\u001b[0maxes\u001b[0m\u001b[0;34m[\u001b[0m\u001b[0;36m0\u001b[0m\u001b[0;34m]\u001b[0m\u001b[0;34m)\u001b[0m\u001b[0;34m)\u001b[0m\u001b[0;34m,\u001b[0m \u001b[0mndim\u001b[0m\u001b[0;34m=\u001b[0m\u001b[0;36m2\u001b[0m\u001b[0;34m\u001b[0m\u001b[0;34m\u001b[0m\u001b[0m\n",
      "\u001b[0;32m~/repos/lesion-diagnosis/.venv/lib/python3.8/site-packages/pandas/core/internals/blocks.py\u001b[0m in \u001b[0;36mmake_block\u001b[0;34m(values, placement, klass, ndim, dtype)\u001b[0m\n\u001b[1;32m   2741\u001b[0m \u001b[0;34m\u001b[0m\u001b[0m\n\u001b[0;32m-> 2742\u001b[0;31m     \u001b[0;32mreturn\u001b[0m \u001b[0mklass\u001b[0m\u001b[0;34m(\u001b[0m\u001b[0mvalues\u001b[0m\u001b[0;34m,\u001b[0m \u001b[0mndim\u001b[0m\u001b[0;34m=\u001b[0m\u001b[0mndim\u001b[0m\u001b[0;34m,\u001b[0m \u001b[0mplacement\u001b[0m\u001b[0;34m=\u001b[0m\u001b[0mplacement\u001b[0m\u001b[0;34m)\u001b[0m\u001b[0;34m\u001b[0m\u001b[0;34m\u001b[0m\u001b[0m\n\u001b[0m\u001b[1;32m   2743\u001b[0m \u001b[0;34m\u001b[0m\u001b[0m\n",
      "\u001b[0;32m~/repos/lesion-diagnosis/.venv/lib/python3.8/site-packages/pandas/core/internals/blocks.py\u001b[0m in \u001b[0;36m__init__\u001b[0;34m(self, values, placement, ndim)\u001b[0m\n\u001b[1;32m    141\u001b[0m         \u001b[0;32mif\u001b[0m \u001b[0mself\u001b[0m\u001b[0;34m.\u001b[0m\u001b[0m_validate_ndim\u001b[0m \u001b[0;32mand\u001b[0m \u001b[0mself\u001b[0m\u001b[0;34m.\u001b[0m\u001b[0mndim\u001b[0m \u001b[0;32mand\u001b[0m \u001b[0mlen\u001b[0m\u001b[0;34m(\u001b[0m\u001b[0mself\u001b[0m\u001b[0;34m.\u001b[0m\u001b[0mmgr_locs\u001b[0m\u001b[0;34m)\u001b[0m \u001b[0;34m!=\u001b[0m \u001b[0mlen\u001b[0m\u001b[0;34m(\u001b[0m\u001b[0mself\u001b[0m\u001b[0;34m.\u001b[0m\u001b[0mvalues\u001b[0m\u001b[0;34m)\u001b[0m\u001b[0;34m:\u001b[0m\u001b[0;34m\u001b[0m\u001b[0;34m\u001b[0m\u001b[0m\n\u001b[0;32m--> 142\u001b[0;31m             raise ValueError(\n\u001b[0m\u001b[1;32m    143\u001b[0m                 \u001b[0;34mf\"Wrong number of items passed {len(self.values)}, \"\u001b[0m\u001b[0;34m\u001b[0m\u001b[0;34m\u001b[0m\u001b[0m\n",
      "\u001b[0;31mValueError\u001b[0m: Wrong number of items passed 7, placement implies 3",
      "\nDuring handling of the above exception, another exception occurred:\n",
      "\u001b[0;31mValueError\u001b[0m                                Traceback (most recent call last)",
      "\u001b[0;32m<ipython-input-16-0f15a855d5c3>\u001b[0m in \u001b[0;36m<module>\u001b[0;34m\u001b[0m\n\u001b[1;32m      1\u001b[0m \u001b[0mprintmd\u001b[0m\u001b[0;34m(\u001b[0m\u001b[0;34m\"### best experiment confusion matrix\"\u001b[0m\u001b[0;34m)\u001b[0m\u001b[0;34m\u001b[0m\u001b[0;34m\u001b[0m\u001b[0m\n\u001b[0;32m----> 2\u001b[0;31m \u001b[0mbest_experiment\u001b[0m\u001b[0;34m.\u001b[0m\u001b[0mplot_confusion_matrix\u001b[0m\u001b[0;34m(\u001b[0m\u001b[0;34m\"valid\"\u001b[0m\u001b[0;34m,\u001b[0m \u001b[0mnormalize\u001b[0m\u001b[0;34m=\u001b[0m\u001b[0;34m\"true\"\u001b[0m\u001b[0;34m)\u001b[0m\u001b[0;34m\u001b[0m\u001b[0;34m\u001b[0m\u001b[0m\n\u001b[0m",
      "\u001b[0;32m~/repos/lesion-diagnosis/src/experiment_analysis/experiment.py\u001b[0m in \u001b[0;36mplot_confusion_matrix\u001b[0;34m(self, phase, normalize)\u001b[0m\n\u001b[1;32m    136\u001b[0m         \u001b[0;34m:\u001b[0m\u001b[0;32mreturn\u001b[0m\u001b[0;34m:\u001b[0m\u001b[0;34m\u001b[0m\u001b[0;34m\u001b[0m\u001b[0m\n\u001b[1;32m    137\u001b[0m         \"\"\"\n\u001b[0;32m--> 138\u001b[0;31m         \u001b[0mdf_cm\u001b[0m \u001b[0;34m=\u001b[0m \u001b[0mself\u001b[0m\u001b[0;34m.\u001b[0m\u001b[0mconfusion_matrix\u001b[0m\u001b[0;34m(\u001b[0m\u001b[0mphase\u001b[0m\u001b[0;34m,\u001b[0m \u001b[0mnormalize\u001b[0m\u001b[0;34m=\u001b[0m\u001b[0mnormalize\u001b[0m\u001b[0;34m)\u001b[0m\u001b[0;34m\u001b[0m\u001b[0;34m\u001b[0m\u001b[0m\n\u001b[0m\u001b[1;32m    139\u001b[0m         \u001b[0mplt\u001b[0m\u001b[0;34m.\u001b[0m\u001b[0mfigure\u001b[0m\u001b[0;34m(\u001b[0m\u001b[0mfigsize\u001b[0m\u001b[0;34m=\u001b[0m\u001b[0;34m(\u001b[0m\u001b[0;36m10\u001b[0m\u001b[0;34m,\u001b[0m \u001b[0;36m7\u001b[0m\u001b[0;34m)\u001b[0m\u001b[0;34m)\u001b[0m\u001b[0;34m\u001b[0m\u001b[0;34m\u001b[0m\u001b[0m\n\u001b[1;32m    140\u001b[0m         \u001b[0msn\u001b[0m\u001b[0;34m.\u001b[0m\u001b[0mset_context\u001b[0m\u001b[0;34m(\u001b[0m\u001b[0mcontext\u001b[0m\u001b[0;34m=\u001b[0m\u001b[0;34m\"notebook\"\u001b[0m\u001b[0;34m,\u001b[0m \u001b[0mfont_scale\u001b[0m\u001b[0;34m=\u001b[0m\u001b[0;36m1.4\u001b[0m\u001b[0;34m)\u001b[0m\u001b[0;34m\u001b[0m\u001b[0;34m\u001b[0m\u001b[0m\n",
      "\u001b[0;32m~/repos/lesion-diagnosis/src/experiment_analysis/experiment.py\u001b[0m in \u001b[0;36mconfusion_matrix\u001b[0;34m(self, phase, normalize)\u001b[0m\n\u001b[1;32m    124\u001b[0m         \u001b[0my_pred\u001b[0m \u001b[0;34m=\u001b[0m \u001b[0mdata\u001b[0m\u001b[0;34m[\u001b[0m\u001b[0;34m\"predicted\"\u001b[0m\u001b[0;34m]\u001b[0m\u001b[0;34m.\u001b[0m\u001b[0mmap\u001b[0m\u001b[0;34m(\u001b[0m\u001b[0mself\u001b[0m\u001b[0;34m.\u001b[0m\u001b[0mreverse_class_map\u001b[0m\u001b[0;34m)\u001b[0m\u001b[0;34m\u001b[0m\u001b[0;34m\u001b[0m\u001b[0m\n\u001b[1;32m    125\u001b[0m         \u001b[0mcf_matrix\u001b[0m \u001b[0;34m=\u001b[0m \u001b[0mconfusion_matrix\u001b[0m\u001b[0;34m(\u001b[0m\u001b[0my_true\u001b[0m\u001b[0;34m,\u001b[0m \u001b[0my_pred\u001b[0m\u001b[0;34m,\u001b[0m \u001b[0mnormalize\u001b[0m\u001b[0;34m=\u001b[0m\u001b[0mnormalize\u001b[0m\u001b[0;34m)\u001b[0m\u001b[0;34m\u001b[0m\u001b[0;34m\u001b[0m\u001b[0m\n\u001b[0;32m--> 126\u001b[0;31m         \u001b[0mdf_cm\u001b[0m \u001b[0;34m=\u001b[0m \u001b[0mpd\u001b[0m\u001b[0;34m.\u001b[0m\u001b[0mDataFrame\u001b[0m\u001b[0;34m(\u001b[0m\u001b[0mcf_matrix\u001b[0m\u001b[0;34m,\u001b[0m \u001b[0mcolumns\u001b[0m\u001b[0;34m=\u001b[0m\u001b[0mnp\u001b[0m\u001b[0;34m.\u001b[0m\u001b[0munique\u001b[0m\u001b[0;34m(\u001b[0m\u001b[0my_true\u001b[0m\u001b[0;34m)\u001b[0m\u001b[0;34m,\u001b[0m \u001b[0mindex\u001b[0m\u001b[0;34m=\u001b[0m\u001b[0mnp\u001b[0m\u001b[0;34m.\u001b[0m\u001b[0munique\u001b[0m\u001b[0;34m(\u001b[0m\u001b[0my_true\u001b[0m\u001b[0;34m)\u001b[0m\u001b[0;34m)\u001b[0m\u001b[0;34m\u001b[0m\u001b[0;34m\u001b[0m\u001b[0m\n\u001b[0m\u001b[1;32m    127\u001b[0m         \u001b[0mdf_cm\u001b[0m\u001b[0;34m.\u001b[0m\u001b[0mindex\u001b[0m\u001b[0;34m.\u001b[0m\u001b[0mname\u001b[0m \u001b[0;34m=\u001b[0m \u001b[0;34m\"Actual\"\u001b[0m\u001b[0;34m\u001b[0m\u001b[0;34m\u001b[0m\u001b[0m\n\u001b[1;32m    128\u001b[0m         \u001b[0mdf_cm\u001b[0m\u001b[0;34m.\u001b[0m\u001b[0mcolumns\u001b[0m\u001b[0;34m.\u001b[0m\u001b[0mname\u001b[0m \u001b[0;34m=\u001b[0m \u001b[0;34m\"Predicted\"\u001b[0m\u001b[0;34m\u001b[0m\u001b[0;34m\u001b[0m\u001b[0m\n",
      "\u001b[0;32m~/repos/lesion-diagnosis/.venv/lib/python3.8/site-packages/pandas/core/frame.py\u001b[0m in \u001b[0;36m__init__\u001b[0;34m(self, data, index, columns, dtype, copy)\u001b[0m\n\u001b[1;32m    556\u001b[0m                 \u001b[0mmgr\u001b[0m \u001b[0;34m=\u001b[0m \u001b[0minit_dict\u001b[0m\u001b[0;34m(\u001b[0m\u001b[0;34m{\u001b[0m\u001b[0mdata\u001b[0m\u001b[0;34m.\u001b[0m\u001b[0mname\u001b[0m\u001b[0;34m:\u001b[0m \u001b[0mdata\u001b[0m\u001b[0;34m}\u001b[0m\u001b[0;34m,\u001b[0m \u001b[0mindex\u001b[0m\u001b[0;34m,\u001b[0m \u001b[0mcolumns\u001b[0m\u001b[0;34m,\u001b[0m \u001b[0mdtype\u001b[0m\u001b[0;34m=\u001b[0m\u001b[0mdtype\u001b[0m\u001b[0;34m)\u001b[0m\u001b[0;34m\u001b[0m\u001b[0;34m\u001b[0m\u001b[0m\n\u001b[1;32m    557\u001b[0m             \u001b[0;32melse\u001b[0m\u001b[0;34m:\u001b[0m\u001b[0;34m\u001b[0m\u001b[0;34m\u001b[0m\u001b[0m\n\u001b[0;32m--> 558\u001b[0;31m                 \u001b[0mmgr\u001b[0m \u001b[0;34m=\u001b[0m \u001b[0minit_ndarray\u001b[0m\u001b[0;34m(\u001b[0m\u001b[0mdata\u001b[0m\u001b[0;34m,\u001b[0m \u001b[0mindex\u001b[0m\u001b[0;34m,\u001b[0m \u001b[0mcolumns\u001b[0m\u001b[0;34m,\u001b[0m \u001b[0mdtype\u001b[0m\u001b[0;34m=\u001b[0m\u001b[0mdtype\u001b[0m\u001b[0;34m,\u001b[0m \u001b[0mcopy\u001b[0m\u001b[0;34m=\u001b[0m\u001b[0mcopy\u001b[0m\u001b[0;34m)\u001b[0m\u001b[0;34m\u001b[0m\u001b[0;34m\u001b[0m\u001b[0m\n\u001b[0m\u001b[1;32m    559\u001b[0m \u001b[0;34m\u001b[0m\u001b[0m\n\u001b[1;32m    560\u001b[0m         \u001b[0;31m# For data is list-like, or Iterable (will consume into list)\u001b[0m\u001b[0;34m\u001b[0m\u001b[0;34m\u001b[0m\u001b[0;34m\u001b[0m\u001b[0m\n",
      "\u001b[0;32m~/repos/lesion-diagnosis/.venv/lib/python3.8/site-packages/pandas/core/internals/construction.py\u001b[0m in \u001b[0;36minit_ndarray\u001b[0;34m(values, index, columns, dtype, copy)\u001b[0m\n\u001b[1;32m    236\u001b[0m         \u001b[0mblock_values\u001b[0m \u001b[0;34m=\u001b[0m \u001b[0;34m[\u001b[0m\u001b[0mvalues\u001b[0m\u001b[0;34m]\u001b[0m\u001b[0;34m\u001b[0m\u001b[0;34m\u001b[0m\u001b[0m\n\u001b[1;32m    237\u001b[0m \u001b[0;34m\u001b[0m\u001b[0m\n\u001b[0;32m--> 238\u001b[0;31m     \u001b[0;32mreturn\u001b[0m \u001b[0mcreate_block_manager_from_blocks\u001b[0m\u001b[0;34m(\u001b[0m\u001b[0mblock_values\u001b[0m\u001b[0;34m,\u001b[0m \u001b[0;34m[\u001b[0m\u001b[0mcolumns\u001b[0m\u001b[0;34m,\u001b[0m \u001b[0mindex\u001b[0m\u001b[0;34m]\u001b[0m\u001b[0;34m)\u001b[0m\u001b[0;34m\u001b[0m\u001b[0;34m\u001b[0m\u001b[0m\n\u001b[0m\u001b[1;32m    239\u001b[0m \u001b[0;34m\u001b[0m\u001b[0m\n\u001b[1;32m    240\u001b[0m \u001b[0;34m\u001b[0m\u001b[0m\n",
      "\u001b[0;32m~/repos/lesion-diagnosis/.venv/lib/python3.8/site-packages/pandas/core/internals/managers.py\u001b[0m in \u001b[0;36mcreate_block_manager_from_blocks\u001b[0;34m(blocks, axes)\u001b[0m\n\u001b[1;32m   1685\u001b[0m         \u001b[0mblocks\u001b[0m \u001b[0;34m=\u001b[0m \u001b[0;34m[\u001b[0m\u001b[0mgetattr\u001b[0m\u001b[0;34m(\u001b[0m\u001b[0mb\u001b[0m\u001b[0;34m,\u001b[0m \u001b[0;34m\"values\"\u001b[0m\u001b[0;34m,\u001b[0m \u001b[0mb\u001b[0m\u001b[0;34m)\u001b[0m \u001b[0;32mfor\u001b[0m \u001b[0mb\u001b[0m \u001b[0;32min\u001b[0m \u001b[0mblocks\u001b[0m\u001b[0;34m]\u001b[0m\u001b[0;34m\u001b[0m\u001b[0;34m\u001b[0m\u001b[0m\n\u001b[1;32m   1686\u001b[0m         \u001b[0mtot_items\u001b[0m \u001b[0;34m=\u001b[0m \u001b[0msum\u001b[0m\u001b[0;34m(\u001b[0m\u001b[0mb\u001b[0m\u001b[0;34m.\u001b[0m\u001b[0mshape\u001b[0m\u001b[0;34m[\u001b[0m\u001b[0;36m0\u001b[0m\u001b[0;34m]\u001b[0m \u001b[0;32mfor\u001b[0m \u001b[0mb\u001b[0m \u001b[0;32min\u001b[0m \u001b[0mblocks\u001b[0m\u001b[0;34m)\u001b[0m\u001b[0;34m\u001b[0m\u001b[0;34m\u001b[0m\u001b[0m\n\u001b[0;32m-> 1687\u001b[0;31m         \u001b[0;32mraise\u001b[0m \u001b[0mconstruction_error\u001b[0m\u001b[0;34m(\u001b[0m\u001b[0mtot_items\u001b[0m\u001b[0;34m,\u001b[0m \u001b[0mblocks\u001b[0m\u001b[0;34m[\u001b[0m\u001b[0;36m0\u001b[0m\u001b[0;34m]\u001b[0m\u001b[0;34m.\u001b[0m\u001b[0mshape\u001b[0m\u001b[0;34m[\u001b[0m\u001b[0;36m1\u001b[0m\u001b[0;34m:\u001b[0m\u001b[0;34m]\u001b[0m\u001b[0;34m,\u001b[0m \u001b[0maxes\u001b[0m\u001b[0;34m,\u001b[0m \u001b[0me\u001b[0m\u001b[0;34m)\u001b[0m\u001b[0;34m\u001b[0m\u001b[0;34m\u001b[0m\u001b[0m\n\u001b[0m\u001b[1;32m   1688\u001b[0m \u001b[0;34m\u001b[0m\u001b[0m\n\u001b[1;32m   1689\u001b[0m \u001b[0;34m\u001b[0m\u001b[0m\n",
      "\u001b[0;31mValueError\u001b[0m: Shape of passed values is (7, 7), indices imply (3, 3)"
     ]
    }
   ],
   "source": [
    "printmd(\"### best experiment confusion matrix\")\n",
    "best_experiment.plot_confusion_matrix(\"valid\", normalize=\"true\")"
   ]
  },
  {
   "cell_type": "code",
   "execution_count": null,
   "id": "f91c9be3-8ae3-4405-9f07-04e5fcd4499d",
   "metadata": {},
   "outputs": [],
   "source": [
    "fig, axes = plt.subplots(nrows=1, ncols=3, figsize=(30, 30))\n",
    "plot_names = [\"loss\", \"f1_score\", \"mcc\"]\n",
    "for ax, plot_name in zip(axes.flat, plot_names):\n",
    "    best_experiment.display_plot(plot_name, ax=ax)\n",
    "plt.show()"
   ]
  },
  {
   "cell_type": "code",
   "execution_count": null,
   "id": "87640fff-906a-4707-94a4-dcab5404d9c2",
   "metadata": {},
   "outputs": [],
   "source": []
  }
 ],
 "metadata": {
  "kernelspec": {
   "display_name": "lesion diagnosis",
   "language": "python",
   "name": "lesiondiagnosis"
  },
  "language_info": {
   "codemirror_mode": {
    "name": "ipython",
    "version": 3
   },
   "file_extension": ".py",
   "mimetype": "text/x-python",
   "name": "python",
   "nbconvert_exporter": "python",
   "pygments_lexer": "ipython3",
   "version": "3.8.5"
  }
 },
 "nbformat": 4,
 "nbformat_minor": 5
}
