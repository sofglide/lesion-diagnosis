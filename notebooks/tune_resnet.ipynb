{
 "cells": [
  {
   "cell_type": "markdown",
   "metadata": {
    "id": "0nsXqdZSmBx9"
   },
   "source": [
    "# Preliminaries"
   ]
  },
  {
   "cell_type": "markdown",
   "metadata": {
    "id": "6Iyo_InoA7tz"
   },
   "source": [
    "## Mount Google Drive for persistance"
   ]
  },
  {
   "cell_type": "code",
   "execution_count": null,
   "metadata": {
    "colab": {
     "base_uri": "https://localhost:8080/"
    },
    "id": "cC6mQdJbAsWN",
    "outputId": "931ceca1-7ab2-4224-cd5f-df33b713584b"
   },
   "outputs": [],
   "source": [
    "from google.colab import drive\n",
    "drive.mount('/content/gdrive')"
   ]
  },
  {
   "cell_type": "code",
   "execution_count": null,
   "metadata": {
    "id": "RY769hkyBEwj"
   },
   "outputs": [],
   "source": [
    "import os\n",
    "from pathlib import Path\n",
    "WORKING_DIR = Path('/content/gdrive/My Drive/Projects/lesion-diagnosis')\n",
    "os.chdir(WORKING_DIR)\n",
    "\n",
    "REPO_DIR = WORKING_DIR / \"lesion-diagnosis\""
   ]
  },
  {
   "cell_type": "markdown",
   "metadata": {
    "id": "0ffNj9asPlyi"
   },
   "source": [
    "## Clone repo"
   ]
  },
  {
   "cell_type": "code",
   "execution_count": null,
   "metadata": {
    "colab": {
     "base_uri": "https://localhost:8080/"
    },
    "id": "u2yqiaPmEPay",
    "outputId": "7a161de0-e55c-438e-ae36-4902bdd47d20"
   },
   "outputs": [],
   "source": [
    "!rm -rf /root/.ssh && mkdir /root/.ssh && tar zxvf \"/content/gdrive/My Drive/Projects/lesion-diagnosis/id_rsa_colab_git.tar.gz\" -C /root/.ssh && chmod 700 /root/.ssh/\n",
    "!ssh-keyscan github.com >> /root/.ssh/known_hosts\n",
    "!chown -R root:$USER /root/.ssh\n",
    "!chmod 644 /root/.ssh/known_hosts\n",
    "!ssh-agent /bin/bash\n",
    "# ssh-add /root/.ssh/id_rsa_colab_git\n",
    "# ssh-add -l\n",
    "# exit"
   ]
  },
  {
   "cell_type": "code",
   "execution_count": null,
   "metadata": {
    "id": "K-EZX-FgPvAR"
   },
   "outputs": [],
   "source": [
    "!git config --global user.name \"Sofiane Soussi\""
   ]
  },
  {
   "cell_type": "code",
   "execution_count": null,
   "metadata": {
    "colab": {
     "base_uri": "https://localhost:8080/"
    },
    "id": "RmNt8UodBl3T",
    "outputId": "528ba71c-7a87-47d6-d385-1b3174630f65"
   },
   "outputs": [],
   "source": [
    "!git clone git@github.com:sofglide/lesion-diagnosis.git"
   ]
  },
  {
   "cell_type": "code",
   "execution_count": null,
   "metadata": {
    "colab": {
     "base_uri": "https://localhost:8080/"
    },
    "id": "Bg6BuMxTNKAL",
    "outputId": "c39394df-de9c-44b0-f9fc-c9ff375916d5"
   },
   "outputs": [],
   "source": [
    "%cd \"$REPO_DIR\""
   ]
  },
  {
   "cell_type": "code",
   "execution_count": null,
   "metadata": {
    "colab": {
     "base_uri": "https://localhost:8080/"
    },
    "id": "YEDX8-NfS-Tg",
    "outputId": "5b6290e0-cabe-40db-bc54-fccdcf7e707c"
   },
   "outputs": [],
   "source": [
    "!git pull"
   ]
  },
  {
   "cell_type": "markdown",
   "metadata": {
    "id": "3S84e5bARW7E"
   },
   "source": [
    "## Install environment"
   ]
  },
  {
   "cell_type": "code",
   "execution_count": null,
   "metadata": {
    "colab": {
     "base_uri": "https://localhost:8080/"
    },
    "id": "4iIkrcz7TRSA",
    "outputId": "13c4494c-bec4-4d4d-d583-2d1feaf8c847"
   },
   "outputs": [],
   "source": [
    "%cd \"$REPO_DIR\"\n",
    "!pip install -r requirements.txt"
   ]
  },
  {
   "cell_type": "markdown",
   "metadata": {
    "id": "ff_qtuh4WkMr"
   },
   "source": [
    "## Import data"
   ]
  },
  {
   "cell_type": "code",
   "execution_count": null,
   "metadata": {
    "colab": {
     "base_uri": "https://localhost:8080/"
    },
    "id": "sJE74EXScmFS",
    "outputId": "8b8c55da-0ab0-40e5-e993-0acceff72605"
   },
   "outputs": [],
   "source": [
    "%cd \"$REPO_DIR\"\n",
    "DATA_DIR = \"/content/data\"\n",
    "! python lesiondiagnosis/main.py download-data --data-dir $DATA_DIR"
   ]
  },
  {
   "cell_type": "markdown",
   "metadata": {
    "id": "erVkyfRZWDM4"
   },
   "source": [
    "# Single experiment: train model"
   ]
  },
  {
   "cell_type": "code",
   "execution_count": null,
   "metadata": {
    "id": "eACcnj7BWvfj"
   },
   "outputs": [],
   "source": [
    "exp_name = \"baseline-with-default-params\""
   ]
  },
  {
   "cell_type": "code",
   "execution_count": null,
   "metadata": {
    "colab": {
     "base_uri": "https://localhost:8080/"
    },
    "id": "XJDhXuvIVeOf",
    "outputId": "39dd368a-4772-4148-fe53-58b9f0c0020f"
   },
   "outputs": [],
   "source": [
    "! python lesiondiagnosis/main.py single-experiment --network Resnet --data-dir $DATA_DIR --exp-name $exp_name --batch-size 128 --num-epochs 3"
   ]
  },
  {
   "cell_type": "markdown",
   "metadata": {
    "id": "XCRoUZN1lYlI"
   },
   "source": [
    "# Tune experiment: train model"
   ]
  },
  {
   "cell_type": "code",
   "execution_count": null,
   "metadata": {
    "colab": {
     "base_uri": "https://localhost:8080/"
    },
    "id": "9Z55ScvDleDw",
    "outputId": "e0b2cd2e-ffb9-4ee8-878f-41fca4ffbfb0"
   },
   "outputs": [],
   "source": [
    "!cd $WORKDIR\n",
    "! python lesiondiagnosis/main.py tune-experiment --config-file tune_resnet.json --num-samples 10 --data-dir $DATA_DIR"
   ]
  },
  {
   "cell_type": "code",
   "execution_count": null,
   "metadata": {
    "id": "bxuY_VQe2zyc"
   },
   "outputs": [],
   "source": []
  }
 ],
 "metadata": {
  "accelerator": "GPU",
  "colab": {
   "name": "tune-resnet.ipynb",
   "provenance": [],
   "toc_visible": true
  },
  "kernelspec": {
   "display_name": "Python 3",
   "language": "python",
   "name": "python3"
  },
  "language_info": {
   "codemirror_mode": {
    "name": "ipython",
    "version": 3
   },
   "file_extension": ".py",
   "mimetype": "text/x-python",
   "name": "python",
   "nbconvert_exporter": "python",
   "pygments_lexer": "ipython3",
   "version": "3.8.5"
  }
 },
 "nbformat": 4,
 "nbformat_minor": 4
}
